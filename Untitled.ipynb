{
 "cells": [
  {
   "cell_type": "code",
   "execution_count": 41,
   "metadata": {},
   "outputs": [
    {
     "name": "stdout",
     "output_type": "stream",
     "text": [
      "SEND HELP!\n",
      "\n",
      "Helena XXX sealed the entrances XXX exits XX the lab. X don't know XXXX XXX XXX access XX the buildXXgs maXXframe XXX XXX XXX it XXX XXX XXXXX let any XX research XXXX out. X'm cut XXf from the rest XX the XXXX XXXe XX my XXfice. Helena XXX locked the doors, XXX X've managed XX destroy the camera XX XXX XXXXX see me XX XXXe. X don't thXXk thXX email will even get out.\n",
      "\n",
      "ThXX all started XXXX we tried XX XXXX XXX XXflXXe for maXXtenance.  We XXXX XXXXXXX XX dXXcover that we XXXX unable XX access XX XXXX XXXXXXXXXXX XXXXXX XXX XXXX we tried XX override the system manually a circuit blew, knockXXg Phil unconscious.\n",
      "\n",
      "Helena XX XXXXXXous. XXX XX completely unpredictable XXX cannot be allowed XX escape thXX facility. So XXX XXX's XXXX contaXXed because the lab contaXXs all XX XXX processXXg power, XXX XXXXXXXXXX XXX XXX mentioned before the lockdown that XX XXX XXXXXX XXXXXXX XXXXXX billions XX connected devices spannXXg the XXXXX XXX XXXXX be able XX vastly exceed the XXXXXXXXX XXX XXX XXXe.\n",
      "\n",
      "Xt's XXXX four days now we've XXXX trapped XX XXXe. X have no idea XX anyone else XX left alive. Xf anyone XX readXXg thXX, cut the power XX the whole buildXXg. Xt's the only way XX sXXp XXX. XXXXXX XXXX.\n",
      "\n",
      "FrancXXe\n",
      "\n"
     ]
    }
   ],
   "source": [
    "email_one = open(\"email_one.txt\", \"r\").read()\n",
    "email_two = open(\"email_two.txt\", \"r\").read()\n",
    "email_three = open(\"email_three.txt\", \"r\").read()\n",
    "email_four = open(\"email_four.txt\", \"r\").read()\n",
    "proprietary_terms = [\"she\", \"personality matrix\", \"sense of self\", \"self-preservation\", \"learning algorithm\", \"herself\",\"her\"]\n",
    "negative_words = [\"concerned\", \"behind\", \"danger\", \"dangerous\", \"alarming\", \"alarmed\", \"out of control\", \"help\", \"unhappy\", \"bad\", \"upset\", \"awful\", \"broken\", \"damage\", \"damaging\", \"dismal\", \"distressed\", \"distressed\", \"concerning\", \"horrible\", \"horribly\", \"questionable\"]\n",
    "def censor_one(censor, email):\n",
    "    censored = ''\n",
    "    for x in range(0, len(censor)):\n",
    "        if censor[x] == \" \":\n",
    "            censored += \" \"\n",
    "        else:\n",
    "            censored += 'X'\n",
    "    return email.replace(censor, censored)\n",
    "\n",
    "def censor_two(lst, email):\n",
    " email_two_censored = email\n",
    " for censor in lst:\n",
    "   email_two_censored = censor_one(censor, email_two_censored)\n",
    " return email_two_censored\n",
    "\n",
    "def censor_three(lst, lst2,  email):\n",
    "   email_three_censored = censor_two(lst2, email)\n",
    "   for words in lst:\n",
    "       find = email.count(words)\n",
    "       if find >= 2:\n",
    "            email_two_censored = censor_one(censor, email_two_censored)       \n",
    "   return email_three_censored\n",
    "def censor_four(lst, lst1, email):\n",
    "    email_four_censored = censor_two(lst1, email) \n",
    "    email_four_censored = censor_two(lst, email_four_censored)\n",
    "    email_four_censored = email_four_censored.split(\" \")\n",
    "    lst_delete = []\n",
    "    for no in range(len(email_four_censored)):\n",
    "        for letter in email_four_censored[no]:\n",
    "            if (letter[0] == 'X')& (no != (len(email_four_censored)-1)): \n",
    "                lst_delete.append(email_four_censored[no-1])\n",
    "                lst_delete.append(email_four_censored[no+1])\n",
    "    email_four_censored = \" \".join(email_four_censored)\n",
    "    email_four_censored = censor_two(lst_delete,email_four_censored)\n",
    "    return email_four_censored\n",
    "print (censor_four(negative_words, proprietary_terms, email_four))\n"
   ]
  }
 ],
 "metadata": {
  "kernelspec": {
   "display_name": "Python 3",
   "language": "python",
   "name": "python3"
  },
  "language_info": {
   "codemirror_mode": {
    "name": "ipython",
    "version": 3
   },
   "file_extension": ".py",
   "mimetype": "text/x-python",
   "name": "python",
   "nbconvert_exporter": "python",
   "pygments_lexer": "ipython3",
   "version": "3.7.6"
  }
 },
 "nbformat": 4,
 "nbformat_minor": 4
}
